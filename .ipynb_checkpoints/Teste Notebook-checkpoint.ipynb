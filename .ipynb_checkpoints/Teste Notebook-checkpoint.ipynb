{
 "cells": [
  {
   "cell_type": "code",
   "execution_count": 26,
   "metadata": {},
   "outputs": [],
   "source": [
    "import pandas as pd\n",
    "import numpy as np\n",
    "import matplotlib.pyplot as plt\n",
    "from IPython.core.debugger import set_trace"
   ]
  },
  {
   "cell_type": "code",
   "execution_count": 27,
   "metadata": {},
   "outputs": [
    {
     "data": {
      "text/html": [
       "<div>\n",
       "<style scoped>\n",
       "    .dataframe tbody tr th:only-of-type {\n",
       "        vertical-align: middle;\n",
       "    }\n",
       "\n",
       "    .dataframe tbody tr th {\n",
       "        vertical-align: top;\n",
       "    }\n",
       "\n",
       "    .dataframe thead th {\n",
       "        text-align: right;\n",
       "    }\n",
       "</style>\n",
       "<table border=\"1\" class=\"dataframe\">\n",
       "  <thead>\n",
       "    <tr style=\"text-align: right;\">\n",
       "      <th></th>\n",
       "      <th>NU_INSCRICAO</th>\n",
       "      <th>NU_ANO</th>\n",
       "      <th>CO_MUNICIPIO_RESIDENCIA</th>\n",
       "      <th>NO_MUNICIPIO_RESIDENCIA</th>\n",
       "      <th>CO_UF_RESIDENCIA</th>\n",
       "      <th>SG_UF_RESIDENCIA</th>\n",
       "      <th>NU_IDADE</th>\n",
       "      <th>TP_SEXO</th>\n",
       "      <th>TP_ESTADO_CIVIL</th>\n",
       "      <th>TP_COR_RACA</th>\n",
       "      <th>...</th>\n",
       "      <th>Q016</th>\n",
       "      <th>Q017</th>\n",
       "      <th>Q018</th>\n",
       "      <th>Q019</th>\n",
       "      <th>Q020</th>\n",
       "      <th>Q021</th>\n",
       "      <th>Q022</th>\n",
       "      <th>Q023</th>\n",
       "      <th>Q024</th>\n",
       "      <th>Q025</th>\n",
       "    </tr>\n",
       "  </thead>\n",
       "  <tbody>\n",
       "    <tr>\n",
       "      <th>0</th>\n",
       "      <td>190001007013</td>\n",
       "      <td>2019</td>\n",
       "      <td>2304400</td>\n",
       "      <td>Fortaleza</td>\n",
       "      <td>23</td>\n",
       "      <td>CE</td>\n",
       "      <td>22</td>\n",
       "      <td>F</td>\n",
       "      <td>1</td>\n",
       "      <td>0</td>\n",
       "      <td>...</td>\n",
       "      <td>B</td>\n",
       "      <td>A</td>\n",
       "      <td>A</td>\n",
       "      <td>B</td>\n",
       "      <td>A</td>\n",
       "      <td>A</td>\n",
       "      <td>D</td>\n",
       "      <td>A</td>\n",
       "      <td>A</td>\n",
       "      <td>B</td>\n",
       "    </tr>\n",
       "    <tr>\n",
       "      <th>1</th>\n",
       "      <td>190001015395</td>\n",
       "      <td>2019</td>\n",
       "      <td>2304400</td>\n",
       "      <td>Fortaleza</td>\n",
       "      <td>23</td>\n",
       "      <td>CE</td>\n",
       "      <td>20</td>\n",
       "      <td>M</td>\n",
       "      <td>1</td>\n",
       "      <td>3</td>\n",
       "      <td>...</td>\n",
       "      <td>A</td>\n",
       "      <td>A</td>\n",
       "      <td>A</td>\n",
       "      <td>B</td>\n",
       "      <td>B</td>\n",
       "      <td>A</td>\n",
       "      <td>C</td>\n",
       "      <td>A</td>\n",
       "      <td>A</td>\n",
       "      <td>A</td>\n",
       "    </tr>\n",
       "    <tr>\n",
       "      <th>2</th>\n",
       "      <td>190001037184</td>\n",
       "      <td>2019</td>\n",
       "      <td>2304400</td>\n",
       "      <td>Fortaleza</td>\n",
       "      <td>23</td>\n",
       "      <td>CE</td>\n",
       "      <td>27</td>\n",
       "      <td>M</td>\n",
       "      <td>1</td>\n",
       "      <td>1</td>\n",
       "      <td>...</td>\n",
       "      <td>A</td>\n",
       "      <td>A</td>\n",
       "      <td>A</td>\n",
       "      <td>B</td>\n",
       "      <td>B</td>\n",
       "      <td>A</td>\n",
       "      <td>E</td>\n",
       "      <td>A</td>\n",
       "      <td>B</td>\n",
       "      <td>A</td>\n",
       "    </tr>\n",
       "    <tr>\n",
       "      <th>3</th>\n",
       "      <td>190001044225</td>\n",
       "      <td>2019</td>\n",
       "      <td>2304400</td>\n",
       "      <td>Fortaleza</td>\n",
       "      <td>23</td>\n",
       "      <td>CE</td>\n",
       "      <td>57</td>\n",
       "      <td>F</td>\n",
       "      <td>3</td>\n",
       "      <td>3</td>\n",
       "      <td>...</td>\n",
       "      <td>A</td>\n",
       "      <td>B</td>\n",
       "      <td>A</td>\n",
       "      <td>B</td>\n",
       "      <td>A</td>\n",
       "      <td>A</td>\n",
       "      <td>B</td>\n",
       "      <td>A</td>\n",
       "      <td>A</td>\n",
       "      <td>A</td>\n",
       "    </tr>\n",
       "    <tr>\n",
       "      <th>4</th>\n",
       "      <td>190001059914</td>\n",
       "      <td>2019</td>\n",
       "      <td>2304400</td>\n",
       "      <td>Fortaleza</td>\n",
       "      <td>23</td>\n",
       "      <td>CE</td>\n",
       "      <td>18</td>\n",
       "      <td>M</td>\n",
       "      <td>1</td>\n",
       "      <td>1</td>\n",
       "      <td>...</td>\n",
       "      <td>A</td>\n",
       "      <td>A</td>\n",
       "      <td>A</td>\n",
       "      <td>B</td>\n",
       "      <td>A</td>\n",
       "      <td>A</td>\n",
       "      <td>B</td>\n",
       "      <td>A</td>\n",
       "      <td>A</td>\n",
       "      <td>A</td>\n",
       "    </tr>\n",
       "  </tbody>\n",
       "</table>\n",
       "<p>5 rows × 136 columns</p>\n",
       "</div>"
      ],
      "text/plain": [
       "   NU_INSCRICAO  NU_ANO  CO_MUNICIPIO_RESIDENCIA NO_MUNICIPIO_RESIDENCIA  \\\n",
       "0  190001007013    2019                  2304400               Fortaleza   \n",
       "1  190001015395    2019                  2304400               Fortaleza   \n",
       "2  190001037184    2019                  2304400               Fortaleza   \n",
       "3  190001044225    2019                  2304400               Fortaleza   \n",
       "4  190001059914    2019                  2304400               Fortaleza   \n",
       "\n",
       "   CO_UF_RESIDENCIA SG_UF_RESIDENCIA  NU_IDADE TP_SEXO  TP_ESTADO_CIVIL  \\\n",
       "0                23               CE        22       F                1   \n",
       "1                23               CE        20       M                1   \n",
       "2                23               CE        27       M                1   \n",
       "3                23               CE        57       F                3   \n",
       "4                23               CE        18       M                1   \n",
       "\n",
       "   TP_COR_RACA  ...  Q016  Q017 Q018  Q019 Q020  Q021  Q022  Q023  Q024  Q025  \n",
       "0            0  ...     B     A    A     B    A     A     D     A     A     B  \n",
       "1            3  ...     A     A    A     B    B     A     C     A     A     A  \n",
       "2            1  ...     A     A    A     B    B     A     E     A     B     A  \n",
       "3            3  ...     A     B    A     B    A     A     B     A     A     A  \n",
       "4            1  ...     A     A    A     B    A     A     B     A     A     A  \n",
       "\n",
       "[5 rows x 136 columns]"
      ]
     },
     "execution_count": 27,
     "metadata": {},
     "output_type": "execute_result"
    }
   ],
   "source": [
    "fonte = 'C:\\Workspace\\dadosCEFortaleza.csv'\n",
    "\n",
    "dados = pd.read_csv(fonte, encoding = \"ISO-8859-1\", sep = ',') # 'dados' é um dataframe\n",
    "dados.head()"
   ]
  },
  {
   "cell_type": "markdown",
   "metadata": {},
   "source": [
    "# Tipos de Dados - Quais serão utilizados?"
   ]
  },
  {
   "cell_type": "code",
   "execution_count": 28,
   "metadata": {},
   "outputs": [
    {
     "data": {
      "text/plain": [
       "C    0.307709\n",
       "B    0.283400\n",
       "D    0.080780\n",
       "E    0.075490\n",
       "G    0.041731\n",
       "F    0.032674\n",
       "H    0.028991\n",
       "A    0.027725\n",
       "I    0.023468\n",
       "J    0.015592\n",
       "Q    0.015581\n",
       "N    0.013697\n",
       "O    0.012761\n",
       "P    0.011899\n",
       "K    0.010717\n",
       "M    0.009057\n",
       "L    0.008727\n",
       "Name: Q006, dtype: float64"
      ]
     },
     "execution_count": 28,
     "metadata": {},
     "output_type": "execute_result"
    }
   ],
   "source": [
    "dados['Q006'].value_counts(normalize= True) # Valores de Renda"
   ]
  },
  {
   "cell_type": "code",
   "execution_count": 29,
   "metadata": {},
   "outputs": [
    {
     "data": {
      "text/plain": [
       "E    0.290829\n",
       "D    0.163092\n",
       "B    0.144925\n",
       "C    0.139433\n",
       "F    0.091093\n",
       "G    0.071606\n",
       "H    0.062559\n",
       "A    0.036463\n",
       "Name: Q002, dtype: float64"
      ]
     },
     "execution_count": 29,
     "metadata": {},
     "output_type": "execute_result"
    }
   ],
   "source": [
    "dados['Q002'].value_counts(normalize= True) # Valores de Escolaridade "
   ]
  },
  {
   "cell_type": "code",
   "execution_count": 30,
   "metadata": {},
   "outputs": [
    {
     "data": {
      "text/plain": [
       "A    0.656925\n",
       "B    0.258102\n",
       "C    0.069243\n",
       "D    0.012654\n",
       "E    0.003076\n",
       "Name: Q010, dtype: float64"
      ]
     },
     "execution_count": 30,
     "metadata": {},
     "output_type": "execute_result"
    }
   ],
   "source": [
    "dados['Q010'].value_counts(normalize = True) # Valores de Locomoção"
   ]
  },
  {
   "cell_type": "code",
   "execution_count": 31,
   "metadata": {},
   "outputs": [
    {
     "data": {
      "text/plain": [
       "B    0.779819\n",
       "A    0.220181\n",
       "Name: Q025, dtype: float64"
      ]
     },
     "execution_count": 31,
     "metadata": {},
     "output_type": "execute_result"
    }
   ],
   "source": [
    "dados['Q025'].value_counts(normalize = True) # Valores de Internet"
   ]
  },
  {
   "cell_type": "code",
   "execution_count": 32,
   "metadata": {},
   "outputs": [
    {
     "data": {
      "text/plain": [
       "1    0.663183\n",
       "2    0.273492\n",
       "3    0.063325\n",
       "Name: TP_ESCOLA, dtype: float64"
      ]
     },
     "execution_count": 32,
     "metadata": {},
     "output_type": "execute_result"
    }
   ],
   "source": [
    "dados['TP_ESCOLA'].value_counts(normalize = True) # Valores de Locomoção"
   ]
  },
  {
   "cell_type": "code",
   "execution_count": 33,
   "metadata": {},
   "outputs": [
    {
     "data": {
      "text/plain": [
       "B    0.471897\n",
       "D    0.190849\n",
       "C    0.106695\n",
       "F    0.106674\n",
       "A    0.074128\n",
       "E    0.049756\n",
       "Name: Q004, dtype: float64"
      ]
     },
     "execution_count": 33,
     "metadata": {},
     "output_type": "execute_result"
    }
   ],
   "source": [
    "dados['Q004'].value_counts(normalize = True) # Valores de Ocupação"
   ]
  },
  {
   "cell_type": "markdown",
   "metadata": {},
   "source": [
    "# Criando novas colunas!"
   ]
  },
  {
   "cell_type": "code",
   "execution_count": 34,
   "metadata": {},
   "outputs": [],
   "source": [
    "# Definindo Notas e Médias\n",
    "provas = [\"NU_NOTA_CN\",\"NU_NOTA_CH\",\"NU_NOTA_MT\",\"NU_NOTA_LC\",\"NU_NOTA_REDACAO\"]\n",
    "dados['NU_NOTA_TOTAL'] = dados[provas].sum(axis=1) #Criando uma nova coluna com as somas totais das notas POR ALUNO, ou seja, somar cada linha\n",
    "provas.append('NU_NOTA_TOTAL')\n",
    "dados['NU_NOTA_MEDIA'] = dados['NU_NOTA_TOTAL']/5"
   ]
  },
  {
   "cell_type": "code",
   "execution_count": 35,
   "metadata": {},
   "outputs": [],
   "source": [
    "def organizar_Grupos_Notas():\n",
    "    vetorGrupoNotas = []\n",
    "    for notasMedias in dados['NU_NOTA_MEDIA']:\n",
    "        if ((notasMedias >= 0.0) & (notasMedias <= 400.0)):\n",
    "            vetorGrupoNotas.append('N1')\n",
    "        elif ((notasMedias > 400) & (notasMedias <= 600)):\n",
    "            vetorGrupoNotas.append('N2')\n",
    "        elif ((notasMedias > 600) & (notasMedias <= 800)):\n",
    "            vetorGrupoNotas.append('N3')\n",
    "        else:\n",
    "            vetorGrupoNotas.append('N4')\n",
    "    dados['NU_MEDIA_GRUPO'] = vetorGrupoNotas"
   ]
  },
  {
   "cell_type": "code",
   "execution_count": 36,
   "metadata": {},
   "outputs": [],
   "source": [
    "def organizar_Grupos_Renda():\n",
    "    vetorGrupoRenda = []\n",
    "    for valorRenda in dados['Q006']:\n",
    "        if (valorRenda == 'A') | (valorRenda == 'B'):\n",
    "            vetorGrupoRenda.append('R1')\n",
    "        elif(valorRenda == 'C'):\n",
    "            vetorGrupoRenda.append('R2')\n",
    "        elif(valorRenda == 'D') | (valorRenda == 'E') |(valorRenda == 'F') |(valorRenda == 'G') |(valorRenda == 'H') |(valorRenda == 'I')|(valorRenda == 'J'):\n",
    "            vetorGrupoRenda.append('R3')\n",
    "        else:\n",
    "            vetorGrupoRenda.append('R4')\n",
    "    dados['RENDA_GRUPO'] = vetorGrupoRenda"
   ]
  },
  {
   "cell_type": "code",
   "execution_count": 37,
   "metadata": {},
   "outputs": [],
   "source": [
    "def organizar_Grupos_Escolaridade():\n",
    "    vetorGrupoEscolaridade = []\n",
    "    for identificadorEscolaridade in dados['Q002']:\n",
    "        if (identificadorEscolaridade == 'A') | (identificadorEscolaridade == 'B'):\n",
    "            vetorGrupoEscolaridade.append('E1')\n",
    "        elif (identificadorEscolaridade == 'C') | (identificadorEscolaridade == 'D'):\n",
    "            vetorGrupoEscolaridade.append('E2')\n",
    "        elif (identificadorEscolaridade == 'E'):\n",
    "            vetorGrupoEscolaridade.append('E3')\n",
    "        else:\n",
    "            vetorGrupoEscolaridade.append('E4')\n",
    "    dados['ESCOLARIDADE_GRUPO'] = vetorGrupoEscolaridade"
   ]
  },
  {
   "cell_type": "code",
   "execution_count": 38,
   "metadata": {},
   "outputs": [],
   "source": [
    "def organizar_Grupos_Locomocao():\n",
    "    vetorGrupoLomocao = []\n",
    "    for identificadorLocomocao in dados['Q010']:\n",
    "        if (identificadorLocomocao == 'A'):\n",
    "            vetorGrupoLomocao.append('L1')\n",
    "        elif (identificadorLocomocao == 'B'):\n",
    "            vetorGrupoLomocao.append('L2')\n",
    "        else:\n",
    "            vetorGrupoLomocao.append('L3')\n",
    "    dados['LOCOMOCAO_GRUPO'] = vetorGrupoLomocao"
   ]
  },
  {
   "cell_type": "code",
   "execution_count": 39,
   "metadata": {},
   "outputs": [],
   "source": [
    "def organizar_Grupos_Intenet(): \n",
    "    vetorGrupoInternet = []\n",
    "    for identificadorInternet in dados['Q025']:\n",
    "        if (identificadorInternet == 'A'):\n",
    "            vetorGrupoInternet.append('I0')\n",
    "        else:\n",
    "            vetorGrupoInternet.append('I1')\n",
    "    dados['INTERNET_GRUPO'] = vetorGrupoInternet"
   ]
  },
  {
   "cell_type": "code",
   "execution_count": 40,
   "metadata": {},
   "outputs": [
    {
     "data": {
      "text/html": [
       "<div>\n",
       "<style scoped>\n",
       "    .dataframe tbody tr th:only-of-type {\n",
       "        vertical-align: middle;\n",
       "    }\n",
       "\n",
       "    .dataframe tbody tr th {\n",
       "        vertical-align: top;\n",
       "    }\n",
       "\n",
       "    .dataframe thead th {\n",
       "        text-align: right;\n",
       "    }\n",
       "</style>\n",
       "<table border=\"1\" class=\"dataframe\">\n",
       "  <thead>\n",
       "    <tr style=\"text-align: right;\">\n",
       "      <th></th>\n",
       "      <th>NU_INSCRICAO</th>\n",
       "      <th>NU_ANO</th>\n",
       "      <th>CO_MUNICIPIO_RESIDENCIA</th>\n",
       "      <th>NO_MUNICIPIO_RESIDENCIA</th>\n",
       "      <th>CO_UF_RESIDENCIA</th>\n",
       "      <th>SG_UF_RESIDENCIA</th>\n",
       "      <th>NU_IDADE</th>\n",
       "      <th>TP_SEXO</th>\n",
       "      <th>TP_ESTADO_CIVIL</th>\n",
       "      <th>TP_COR_RACA</th>\n",
       "      <th>...</th>\n",
       "      <th>Q023</th>\n",
       "      <th>Q024</th>\n",
       "      <th>Q025</th>\n",
       "      <th>NU_NOTA_TOTAL</th>\n",
       "      <th>NU_NOTA_MEDIA</th>\n",
       "      <th>NU_MEDIA_GRUPO</th>\n",
       "      <th>RENDA_GRUPO</th>\n",
       "      <th>ESCOLARIDADE_GRUPO</th>\n",
       "      <th>LOCOMOCAO_GRUPO</th>\n",
       "      <th>INTERNET_GRUPO</th>\n",
       "    </tr>\n",
       "  </thead>\n",
       "  <tbody>\n",
       "    <tr>\n",
       "      <th>0</th>\n",
       "      <td>190001007013</td>\n",
       "      <td>2019</td>\n",
       "      <td>2304400</td>\n",
       "      <td>Fortaleza</td>\n",
       "      <td>23</td>\n",
       "      <td>CE</td>\n",
       "      <td>22</td>\n",
       "      <td>F</td>\n",
       "      <td>1</td>\n",
       "      <td>0</td>\n",
       "      <td>...</td>\n",
       "      <td>A</td>\n",
       "      <td>A</td>\n",
       "      <td>B</td>\n",
       "      <td>0.0</td>\n",
       "      <td>0.00</td>\n",
       "      <td>N1</td>\n",
       "      <td>R3</td>\n",
       "      <td>E3</td>\n",
       "      <td>L1</td>\n",
       "      <td>I1</td>\n",
       "    </tr>\n",
       "    <tr>\n",
       "      <th>1</th>\n",
       "      <td>190001015395</td>\n",
       "      <td>2019</td>\n",
       "      <td>2304400</td>\n",
       "      <td>Fortaleza</td>\n",
       "      <td>23</td>\n",
       "      <td>CE</td>\n",
       "      <td>20</td>\n",
       "      <td>M</td>\n",
       "      <td>1</td>\n",
       "      <td>3</td>\n",
       "      <td>...</td>\n",
       "      <td>A</td>\n",
       "      <td>A</td>\n",
       "      <td>A</td>\n",
       "      <td>2346.6</td>\n",
       "      <td>469.32</td>\n",
       "      <td>N2</td>\n",
       "      <td>R2</td>\n",
       "      <td>E2</td>\n",
       "      <td>L1</td>\n",
       "      <td>I0</td>\n",
       "    </tr>\n",
       "    <tr>\n",
       "      <th>2</th>\n",
       "      <td>190001037184</td>\n",
       "      <td>2019</td>\n",
       "      <td>2304400</td>\n",
       "      <td>Fortaleza</td>\n",
       "      <td>23</td>\n",
       "      <td>CE</td>\n",
       "      <td>27</td>\n",
       "      <td>M</td>\n",
       "      <td>1</td>\n",
       "      <td>1</td>\n",
       "      <td>...</td>\n",
       "      <td>A</td>\n",
       "      <td>B</td>\n",
       "      <td>A</td>\n",
       "      <td>3142.8</td>\n",
       "      <td>628.56</td>\n",
       "      <td>N3</td>\n",
       "      <td>R3</td>\n",
       "      <td>E3</td>\n",
       "      <td>L2</td>\n",
       "      <td>I0</td>\n",
       "    </tr>\n",
       "    <tr>\n",
       "      <th>3</th>\n",
       "      <td>190001044225</td>\n",
       "      <td>2019</td>\n",
       "      <td>2304400</td>\n",
       "      <td>Fortaleza</td>\n",
       "      <td>23</td>\n",
       "      <td>CE</td>\n",
       "      <td>57</td>\n",
       "      <td>F</td>\n",
       "      <td>3</td>\n",
       "      <td>3</td>\n",
       "      <td>...</td>\n",
       "      <td>A</td>\n",
       "      <td>A</td>\n",
       "      <td>A</td>\n",
       "      <td>0.0</td>\n",
       "      <td>0.00</td>\n",
       "      <td>N1</td>\n",
       "      <td>R1</td>\n",
       "      <td>E3</td>\n",
       "      <td>L1</td>\n",
       "      <td>I0</td>\n",
       "    </tr>\n",
       "    <tr>\n",
       "      <th>4</th>\n",
       "      <td>190001059914</td>\n",
       "      <td>2019</td>\n",
       "      <td>2304400</td>\n",
       "      <td>Fortaleza</td>\n",
       "      <td>23</td>\n",
       "      <td>CE</td>\n",
       "      <td>18</td>\n",
       "      <td>M</td>\n",
       "      <td>1</td>\n",
       "      <td>1</td>\n",
       "      <td>...</td>\n",
       "      <td>A</td>\n",
       "      <td>A</td>\n",
       "      <td>A</td>\n",
       "      <td>2883.9</td>\n",
       "      <td>576.78</td>\n",
       "      <td>N2</td>\n",
       "      <td>R2</td>\n",
       "      <td>E3</td>\n",
       "      <td>L1</td>\n",
       "      <td>I0</td>\n",
       "    </tr>\n",
       "  </tbody>\n",
       "</table>\n",
       "<p>5 rows × 143 columns</p>\n",
       "</div>"
      ],
      "text/plain": [
       "   NU_INSCRICAO  NU_ANO  CO_MUNICIPIO_RESIDENCIA NO_MUNICIPIO_RESIDENCIA  \\\n",
       "0  190001007013    2019                  2304400               Fortaleza   \n",
       "1  190001015395    2019                  2304400               Fortaleza   \n",
       "2  190001037184    2019                  2304400               Fortaleza   \n",
       "3  190001044225    2019                  2304400               Fortaleza   \n",
       "4  190001059914    2019                  2304400               Fortaleza   \n",
       "\n",
       "   CO_UF_RESIDENCIA SG_UF_RESIDENCIA  NU_IDADE TP_SEXO  TP_ESTADO_CIVIL  \\\n",
       "0                23               CE        22       F                1   \n",
       "1                23               CE        20       M                1   \n",
       "2                23               CE        27       M                1   \n",
       "3                23               CE        57       F                3   \n",
       "4                23               CE        18       M                1   \n",
       "\n",
       "   TP_COR_RACA  ...  Q023  Q024 Q025  NU_NOTA_TOTAL NU_NOTA_MEDIA  \\\n",
       "0            0  ...     A     A    B            0.0          0.00   \n",
       "1            3  ...     A     A    A         2346.6        469.32   \n",
       "2            1  ...     A     B    A         3142.8        628.56   \n",
       "3            3  ...     A     A    A            0.0          0.00   \n",
       "4            1  ...     A     A    A         2883.9        576.78   \n",
       "\n",
       "   NU_MEDIA_GRUPO  RENDA_GRUPO  ESCOLARIDADE_GRUPO  LOCOMOCAO_GRUPO  \\\n",
       "0              N1           R3                  E3               L1   \n",
       "1              N2           R2                  E2               L1   \n",
       "2              N3           R3                  E3               L2   \n",
       "3              N1           R1                  E3               L1   \n",
       "4              N2           R2                  E3               L1   \n",
       "\n",
       "   INTERNET_GRUPO  \n",
       "0              I1  \n",
       "1              I0  \n",
       "2              I0  \n",
       "3              I0  \n",
       "4              I0  \n",
       "\n",
       "[5 rows x 143 columns]"
      ]
     },
     "execution_count": 40,
     "metadata": {},
     "output_type": "execute_result"
    }
   ],
   "source": [
    "# Organizando todas as Colunas em novas colunas GRUPOS (são colunas representativas)\n",
    "organizar_Grupos_Notas()\n",
    "organizar_Grupos_Renda()\n",
    "organizar_Grupos_Escolaridade()\n",
    "organizar_Grupos_Locomocao()\n",
    "organizar_Grupos_Intenet()\n",
    "dados.head()"
   ]
  },
  {
   "cell_type": "code",
   "execution_count": 41,
   "metadata": {},
   "outputs": [],
   "source": [
    "# Agregando todas as novas colunas em uma única coluna String para unir informações\n",
    "dados['GRUPO_TOTAL'] = dados['NU_MEDIA_GRUPO']+ dados['RENDA_GRUPO'] + dados['ESCOLARIDADE_GRUPO'] + dados['LOCOMOCAO_GRUPO'] + dados['INTERNET_GRUPO']"
   ]
  },
  {
   "cell_type": "markdown",
   "metadata": {},
   "source": [
    "# Apriori - Parte 1"
   ]
  },
  {
   "cell_type": "code",
   "execution_count": 42,
   "metadata": {},
   "outputs": [],
   "source": [
    "# Função Apriori que define os primeiros números e depois passa pelos menos número com % de suporte.\n",
    "def aprioriNivel1(): \n",
    "   \n",
    "    #nível 1\n",
    "    vetorK = {}\n",
    "   \n",
    "    for transicao in dados['GRUPO_TOTAL']:\n",
    "        # Checando Notas\n",
    "        if transicao[:2] in vetorK:\n",
    "            vetorK[transicao[:2]] += 1\n",
    "        else:\n",
    "            vetorK[transicao[:2]] = 1\n",
    "            \n",
    "        #Checando Renda\n",
    "        if transicao[2:4] in vetorK:\n",
    "            vetorK[transicao[2:4]] += 1\n",
    "        else:\n",
    "            vetorK[transicao[2:4]] = 1\n",
    "            \n",
    "        #Checando Escolaridade    \n",
    "        if transicao[4:6] in vetorK:\n",
    "            vetorK[transicao[4:6]] += 1\n",
    "        else:\n",
    "            vetorK[transicao[4:6]] = 1\n",
    "            \n",
    "        #Checando Locomocao    \n",
    "        if transicao[6:8] in vetorK:\n",
    "            vetorK[transicao[6:8]] += 1\n",
    "        else:\n",
    "            vetorK[transicao[6:8]] = 1\n",
    "            \n",
    "        #Checando Internet\n",
    "        if transicao[8:10] in vetorK:\n",
    "            vetorK[transicao[8:10]] += 1\n",
    "        else:\n",
    "            vetorK[transicao[8:10]] = 1\n",
    "    \n",
    "    \n",
    "        \n",
    "    print(vetorK) \n",
    "    return vetorK"
   ]
  },
  {
   "cell_type": "code",
   "execution_count": 43,
   "metadata": {},
   "outputs": [],
   "source": [
    "# Definindo suporte e confiança\n",
    "suporte = 0.50\n",
    "confianca = 0.70"
   ]
  },
  {
   "cell_type": "code",
   "execution_count": 58,
   "metadata": {},
   "outputs": [
    {
     "name": "stdout",
     "output_type": "stream",
     "text": [
      "{'N1': 27055, 'R3': 28068, 'E3': 27326, 'L1': 61724, 'I1': 73271, 'N2': 48570, 'R2': 28912, 'E2': 28425, 'I0': 20688, 'N3': 18309, 'L2': 24251, 'R1': 29233, 'E1': 17043, 'E4': 21165, 'R4': 7746, 'L3': 7984, 'N4': 25}\n"
     ]
    }
   ],
   "source": [
    "vetorK =  aprioriNivel1()"
   ]
  },
  {
   "cell_type": "code",
   "execution_count": 64,
   "metadata": {},
   "outputs": [
    {
     "data": {
      "text/plain": [
       "{'L1': 61724, 'I1': 73271, 'N2': 48570}"
      ]
     },
     "execution_count": 64,
     "metadata": {},
     "output_type": "execute_result"
    }
   ],
   "source": [
    "vetorK"
   ]
  },
  {
   "cell_type": "code",
   "execution_count": 61,
   "metadata": {},
   "outputs": [],
   "source": [
    "# Criando primeiro nível com suporte\n",
    "vetorSuporte = []\n",
    "def verificadorSuporte(vetorKitems):\n",
    "    #set_trace()\n",
    "    for key in vetorKitems:\n",
    "        if (vetorKitems[key]/93959) < suporte:\n",
    "            excluidos.append(key)\n",
    "    for ex in excluidos:\n",
    "        vetorSuporte.pop(ex)\n",
    "    return vetorSuporte"
   ]
  },
  {
   "cell_type": "code",
   "execution_count": 62,
   "metadata": {},
   "outputs": [
    {
     "data": {
      "text/plain": [
       "3"
      ]
     },
     "execution_count": 62,
     "metadata": {},
     "output_type": "execute_result"
    }
   ],
   "source": [
    "vetorK_suporte = verificadorSuporte(vetorK) # transformando todo o vetorK que possui várias chaves em só aquelas que passam no suporte\n",
    "len(vetorK)"
   ]
  },
  {
   "cell_type": "code",
   "execution_count": 63,
   "metadata": {},
   "outputs": [
    {
     "data": {
      "text/plain": [
       "{'L1': 61724, 'I1': 73271, 'N2': 48570}"
      ]
     },
     "execution_count": 63,
     "metadata": {},
     "output_type": "execute_result"
    }
   ],
   "source": [
    "vetorK_suporte"
   ]
  },
  {
   "cell_type": "code",
   "execution_count": 48,
   "metadata": {},
   "outputs": [],
   "source": [
    "# função que transforma a lista de string em um vetor de string organizadas\n",
    "def transformarVetorChar(listaChar):\n",
    "    vetorUnitario = []\n",
    "    count = 0\n",
    "    tamanhoLoop = int(len(listaChar)/2)\n",
    "    #set_trace()\n",
    "    for i in range(0, tamanhoLoop):\n",
    "        unidade = listaChar[count]+ listaChar[count+1]\n",
    "        vetorUnitario.append(unidade)\n",
    "        count += 2\n",
    "    return vetorUnitario"
   ]
  },
  {
   "cell_type": "markdown",
   "metadata": {},
   "source": [
    "# Apriori - Parte 2"
   ]
  },
  {
   "cell_type": "code",
   "execution_count": 49,
   "metadata": {},
   "outputs": [],
   "source": [
    "# criando segundo nível\n",
    "vetorK2 = {}\n",
    "vetorTemp = []\n",
    "\n",
    "# criando k+1 items a partir do vetork passado com o suporte x%\n",
    "def aprioriNivel2():\n",
    "    boo = False\n",
    "    for transicao in vetorK:\n",
    "        #set_trace()\n",
    "        for eleito in vetorK:\n",
    "            if transicao == eleito:\n",
    "                continue\n",
    "            else:\n",
    "                vetorK2[transicao+eleito] = 0\n",
    "# transformando dados para comparar chaves e números\n",
    "    for transicaoGrupoTotal in dados['GRUPO_TOTAL']:\n",
    "        teste = transformarVetorChar(list(transicaoGrupoTotal))\n",
    "        vetorTemp.append(transformarVetorChar(list(transicaoGrupoTotal)))\n",
    "\n",
    "# Comparando chaves com vetores\n",
    "        \n",
    "        chaves = list(vetorK2.keys()) \n",
    "        for chave in chaves:\n",
    "            count = 0\n",
    "            chaveTransformada = transformarVetorChar(chave)\n",
    "            #set_trace()\n",
    "            for chaveT in chaveTransformada:\n",
    "                if chaveT in teste:\n",
    "                    count +=1\n",
    "                else:\n",
    "                    break\n",
    "            if count == 2:\n",
    "                vetorK2[chave] += 1"
   ]
  },
  {
   "cell_type": "code",
   "execution_count": 50,
   "metadata": {},
   "outputs": [],
   "source": [
    "aprioriNivel2()"
   ]
  },
  {
   "cell_type": "code",
   "execution_count": 56,
   "metadata": {},
   "outputs": [
    {
     "data": {
      "text/plain": [
       "{}"
      ]
     },
     "execution_count": 56,
     "metadata": {},
     "output_type": "execute_result"
    }
   ],
   "source": [
    "vetorK2"
   ]
  },
  {
   "cell_type": "code",
   "execution_count": 54,
   "metadata": {},
   "outputs": [],
   "source": [
    "vetorK2_suporte = verificadorSuporte(vetorK2)"
   ]
  },
  {
   "cell_type": "code",
   "execution_count": 55,
   "metadata": {},
   "outputs": [
    {
     "data": {
      "text/plain": [
       "{}"
      ]
     },
     "execution_count": 55,
     "metadata": {},
     "output_type": "execute_result"
    }
   ],
   "source": [
    "vetorK2_suporte"
   ]
  },
  {
   "cell_type": "code",
   "execution_count": null,
   "metadata": {},
   "outputs": [],
   "source": []
  }
 ],
 "metadata": {
  "kernelspec": {
   "display_name": "Python 3",
   "language": "python",
   "name": "python3"
  },
  "language_info": {
   "codemirror_mode": {
    "name": "ipython",
    "version": 3
   },
   "file_extension": ".py",
   "mimetype": "text/x-python",
   "name": "python",
   "nbconvert_exporter": "python",
   "pygments_lexer": "ipython3",
   "version": "3.8.3"
  }
 },
 "nbformat": 4,
 "nbformat_minor": 4
}
