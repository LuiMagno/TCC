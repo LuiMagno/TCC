{
 "cells": [
  {
   "cell_type": "code",
   "execution_count": 304,
   "metadata": {},
   "outputs": [],
   "source": [
    "import pandas as pd\n",
    "import numpy as np\n",
    "import matplotlib.pyplot as plt"
   ]
  },
  {
   "cell_type": "code",
   "execution_count": 305,
   "metadata": {},
   "outputs": [
    {
     "data": {
      "text/html": [
       "<div>\n",
       "<style scoped>\n",
       "    .dataframe tbody tr th:only-of-type {\n",
       "        vertical-align: middle;\n",
       "    }\n",
       "\n",
       "    .dataframe tbody tr th {\n",
       "        vertical-align: top;\n",
       "    }\n",
       "\n",
       "    .dataframe thead th {\n",
       "        text-align: right;\n",
       "    }\n",
       "</style>\n",
       "<table border=\"1\" class=\"dataframe\">\n",
       "  <thead>\n",
       "    <tr style=\"text-align: right;\">\n",
       "      <th></th>\n",
       "      <th>NU_INSCRICAO</th>\n",
       "      <th>NU_ANO</th>\n",
       "      <th>CO_MUNICIPIO_RESIDENCIA</th>\n",
       "      <th>NO_MUNICIPIO_RESIDENCIA</th>\n",
       "      <th>CO_UF_RESIDENCIA</th>\n",
       "      <th>SG_UF_RESIDENCIA</th>\n",
       "      <th>NU_IDADE</th>\n",
       "      <th>TP_SEXO</th>\n",
       "      <th>TP_ESTADO_CIVIL</th>\n",
       "      <th>TP_COR_RACA</th>\n",
       "      <th>...</th>\n",
       "      <th>Q016</th>\n",
       "      <th>Q017</th>\n",
       "      <th>Q018</th>\n",
       "      <th>Q019</th>\n",
       "      <th>Q020</th>\n",
       "      <th>Q021</th>\n",
       "      <th>Q022</th>\n",
       "      <th>Q023</th>\n",
       "      <th>Q024</th>\n",
       "      <th>Q025</th>\n",
       "    </tr>\n",
       "  </thead>\n",
       "  <tbody>\n",
       "    <tr>\n",
       "      <th>0</th>\n",
       "      <td>190001007013</td>\n",
       "      <td>2019</td>\n",
       "      <td>2304400</td>\n",
       "      <td>Fortaleza</td>\n",
       "      <td>23</td>\n",
       "      <td>CE</td>\n",
       "      <td>22</td>\n",
       "      <td>F</td>\n",
       "      <td>1</td>\n",
       "      <td>0</td>\n",
       "      <td>...</td>\n",
       "      <td>B</td>\n",
       "      <td>A</td>\n",
       "      <td>A</td>\n",
       "      <td>B</td>\n",
       "      <td>A</td>\n",
       "      <td>A</td>\n",
       "      <td>D</td>\n",
       "      <td>A</td>\n",
       "      <td>A</td>\n",
       "      <td>B</td>\n",
       "    </tr>\n",
       "    <tr>\n",
       "      <th>1</th>\n",
       "      <td>190001015395</td>\n",
       "      <td>2019</td>\n",
       "      <td>2304400</td>\n",
       "      <td>Fortaleza</td>\n",
       "      <td>23</td>\n",
       "      <td>CE</td>\n",
       "      <td>20</td>\n",
       "      <td>M</td>\n",
       "      <td>1</td>\n",
       "      <td>3</td>\n",
       "      <td>...</td>\n",
       "      <td>A</td>\n",
       "      <td>A</td>\n",
       "      <td>A</td>\n",
       "      <td>B</td>\n",
       "      <td>B</td>\n",
       "      <td>A</td>\n",
       "      <td>C</td>\n",
       "      <td>A</td>\n",
       "      <td>A</td>\n",
       "      <td>A</td>\n",
       "    </tr>\n",
       "    <tr>\n",
       "      <th>2</th>\n",
       "      <td>190001037184</td>\n",
       "      <td>2019</td>\n",
       "      <td>2304400</td>\n",
       "      <td>Fortaleza</td>\n",
       "      <td>23</td>\n",
       "      <td>CE</td>\n",
       "      <td>27</td>\n",
       "      <td>M</td>\n",
       "      <td>1</td>\n",
       "      <td>1</td>\n",
       "      <td>...</td>\n",
       "      <td>A</td>\n",
       "      <td>A</td>\n",
       "      <td>A</td>\n",
       "      <td>B</td>\n",
       "      <td>B</td>\n",
       "      <td>A</td>\n",
       "      <td>E</td>\n",
       "      <td>A</td>\n",
       "      <td>B</td>\n",
       "      <td>A</td>\n",
       "    </tr>\n",
       "    <tr>\n",
       "      <th>3</th>\n",
       "      <td>190001044225</td>\n",
       "      <td>2019</td>\n",
       "      <td>2304400</td>\n",
       "      <td>Fortaleza</td>\n",
       "      <td>23</td>\n",
       "      <td>CE</td>\n",
       "      <td>57</td>\n",
       "      <td>F</td>\n",
       "      <td>3</td>\n",
       "      <td>3</td>\n",
       "      <td>...</td>\n",
       "      <td>A</td>\n",
       "      <td>B</td>\n",
       "      <td>A</td>\n",
       "      <td>B</td>\n",
       "      <td>A</td>\n",
       "      <td>A</td>\n",
       "      <td>B</td>\n",
       "      <td>A</td>\n",
       "      <td>A</td>\n",
       "      <td>A</td>\n",
       "    </tr>\n",
       "    <tr>\n",
       "      <th>4</th>\n",
       "      <td>190001059914</td>\n",
       "      <td>2019</td>\n",
       "      <td>2304400</td>\n",
       "      <td>Fortaleza</td>\n",
       "      <td>23</td>\n",
       "      <td>CE</td>\n",
       "      <td>18</td>\n",
       "      <td>M</td>\n",
       "      <td>1</td>\n",
       "      <td>1</td>\n",
       "      <td>...</td>\n",
       "      <td>A</td>\n",
       "      <td>A</td>\n",
       "      <td>A</td>\n",
       "      <td>B</td>\n",
       "      <td>A</td>\n",
       "      <td>A</td>\n",
       "      <td>B</td>\n",
       "      <td>A</td>\n",
       "      <td>A</td>\n",
       "      <td>A</td>\n",
       "    </tr>\n",
       "  </tbody>\n",
       "</table>\n",
       "<p>5 rows × 136 columns</p>\n",
       "</div>"
      ],
      "text/plain": [
       "   NU_INSCRICAO  NU_ANO  CO_MUNICIPIO_RESIDENCIA NO_MUNICIPIO_RESIDENCIA  \\\n",
       "0  190001007013    2019                  2304400               Fortaleza   \n",
       "1  190001015395    2019                  2304400               Fortaleza   \n",
       "2  190001037184    2019                  2304400               Fortaleza   \n",
       "3  190001044225    2019                  2304400               Fortaleza   \n",
       "4  190001059914    2019                  2304400               Fortaleza   \n",
       "\n",
       "   CO_UF_RESIDENCIA SG_UF_RESIDENCIA  NU_IDADE TP_SEXO  TP_ESTADO_CIVIL  \\\n",
       "0                23               CE        22       F                1   \n",
       "1                23               CE        20       M                1   \n",
       "2                23               CE        27       M                1   \n",
       "3                23               CE        57       F                3   \n",
       "4                23               CE        18       M                1   \n",
       "\n",
       "   TP_COR_RACA  ...  Q016  Q017 Q018  Q019 Q020  Q021  Q022  Q023  Q024  Q025  \n",
       "0            0  ...     B     A    A     B    A     A     D     A     A     B  \n",
       "1            3  ...     A     A    A     B    B     A     C     A     A     A  \n",
       "2            1  ...     A     A    A     B    B     A     E     A     B     A  \n",
       "3            3  ...     A     B    A     B    A     A     B     A     A     A  \n",
       "4            1  ...     A     A    A     B    A     A     B     A     A     A  \n",
       "\n",
       "[5 rows x 136 columns]"
      ]
     },
     "execution_count": 305,
     "metadata": {},
     "output_type": "execute_result"
    }
   ],
   "source": [
    "fonte = 'C:\\Workspace\\dadosCEFortaleza.csv'\n",
    "\n",
    "dados = pd.read_csv(fonte, encoding = \"ISO-8859-1\", sep = ',') # 'dados' é um dataframe\n",
    "dados.head()"
   ]
  },
  {
   "cell_type": "code",
   "execution_count": 306,
   "metadata": {},
   "outputs": [
    {
     "data": {
      "text/plain": [
       "<matplotlib.axes._subplots.AxesSubplot at 0x1cf19df6040>"
      ]
     },
     "execution_count": 306,
     "metadata": {},
     "output_type": "execute_result"
    },
    {
     "data": {
      "image/png": "[encoded data removed]",
      "text/plain": [
       "<Figure size 720x576 with 1 Axes>"
      ]
     },
     "metadata": {
      "needs_background": "light"
     },
     "output_type": "display_data"
    }
   ],
   "source": [
    "dados['Q006'].hist(bins = 30, figsize= (10,8))"
   ]
  },
  {
   "cell_type": "code",
   "execution_count": 307,
   "metadata": {},
   "outputs": [],
   "source": [
    "renda_ordenada = dados['Q006'].unique()"
   ]
  },
  {
   "cell_type": "code",
   "execution_count": 308,
   "metadata": {},
   "outputs": [],
   "source": [
    "renda_ordenada.sort()"
   ]
  },
  {
   "cell_type": "code",
   "execution_count": 309,
   "metadata": {},
   "outputs": [
    {
     "data": {
      "text/plain": [
       "C    28912\n",
       "B    26628\n",
       "D     7590\n",
       "E     7093\n",
       "G     3921\n",
       "F     3070\n",
       "H     2724\n",
       "A     2605\n",
       "I     2205\n",
       "J     1465\n",
       "Q     1464\n",
       "N     1287\n",
       "O     1199\n",
       "P     1118\n",
       "K     1007\n",
       "M      851\n",
       "L      820\n",
       "Name: Q006, dtype: int64"
      ]
     },
     "execution_count": 309,
     "metadata": {},
     "output_type": "execute_result"
    }
   ],
   "source": [
    "dados['Q006'].value_counts()"
   ]
  },
  {
   "cell_type": "code",
   "execution_count": 310,
   "metadata": {},
   "outputs": [
    {
     "data": {
      "text/plain": [
       "<matplotlib.axes._subplots.AxesSubplot at 0x1cf19e27f10>"
      ]
     },
     "execution_count": 310,
     "metadata": {},
     "output_type": "execute_result"
    },
    {
     "data": {
      "image/png": "[encoded data removed]",
      "text/plain": [
       "<Figure size 720x576 with 1 Axes>"
      ]
     },
     "metadata": {
      "needs_background": "light"
     },
     "output_type": "display_data"
    }
   ],
   "source": [
    "dados['Q002'].hist(bins = 30, figsize= (10,8))"
   ]
  },
  {
   "cell_type": "code",
   "execution_count": 311,
   "metadata": {},
   "outputs": [
    {
     "data": {
      "text/plain": [
       "E    0.290829\n",
       "D    0.163092\n",
       "B    0.144925\n",
       "C    0.139433\n",
       "F    0.091093\n",
       "G    0.071606\n",
       "H    0.062559\n",
       "A    0.036463\n",
       "Name: Q002, dtype: float64"
      ]
     },
     "execution_count": 311,
     "metadata": {},
     "output_type": "execute_result"
    }
   ],
   "source": [
    "dados['Q002'].value_counts(normalize = True)"
   ]
  },
  {
   "cell_type": "code",
   "execution_count": 312,
   "metadata": {},
   "outputs": [
    {
     "data": {
      "text/plain": [
       "<matplotlib.axes._subplots.AxesSubplot at 0x1cf19e270a0>"
      ]
     },
     "execution_count": 312,
     "metadata": {},
     "output_type": "execute_result"
    },
    {
     "data": {
      "image/png": "[encoded data removed]",
      "text/plain": [
       "<Figure size 720x576 with 1 Axes>"
      ]
     },
     "metadata": {
      "needs_background": "light"
     },
     "output_type": "display_data"
    }
   ],
   "source": [
    "dados['Q010'].hist(bins = 30, figsize= (10,8))"
   ]
  },
  {
   "cell_type": "code",
   "execution_count": 313,
   "metadata": {},
   "outputs": [
    {
     "data": {
      "text/plain": [
       "A    0.656925\n",
       "B    0.258102\n",
       "C    0.069243\n",
       "D    0.012654\n",
       "E    0.003076\n",
       "Name: Q010, dtype: float64"
      ]
     },
     "execution_count": 313,
     "metadata": {},
     "output_type": "execute_result"
    }
   ],
   "source": [
    "dados['Q010'].value_counts(normalize = True)"
   ]
  },
  {
   "cell_type": "code",
   "execution_count": 314,
   "metadata": {},
   "outputs": [
    {
     "data": {
      "text/plain": [
       "<matplotlib.axes._subplots.AxesSubplot at 0x1cf1b4e27f0>"
      ]
     },
     "execution_count": 314,
     "metadata": {},
     "output_type": "execute_result"
    },
    {
     "data": {
      "image/png": "[encoded data removed]",
      "text/plain": [
       "<Figure size 720x576 with 1 Axes>"
      ]
     },
     "metadata": {
      "needs_background": "light"
     },
     "output_type": "display_data"
    }
   ],
   "source": [
    "dados['Q025'].hist(bins = 30, figsize= (10,8))"
   ]
  },
  {
   "cell_type": "code",
   "execution_count": 315,
   "metadata": {},
   "outputs": [
    {
     "data": {
      "text/plain": [
       "B    0.779819\n",
       "A    0.220181\n",
       "Name: Q025, dtype: float64"
      ]
     },
     "execution_count": 315,
     "metadata": {},
     "output_type": "execute_result"
    }
   ],
   "source": [
    "dados['Q025'].value_counts(normalize = True)"
   ]
  },
  {
   "cell_type": "code",
   "execution_count": 316,
   "metadata": {},
   "outputs": [
    {
     "data": {
      "text/plain": [
       "<matplotlib.axes._subplots.AxesSubplot at 0x1cf12df9bb0>"
      ]
     },
     "execution_count": 316,
     "metadata": {},
     "output_type": "execute_result"
    },
    {
     "data": {
      "image/png": "[encoded data removed]",
      "text/plain": [
       "<Figure size 720x576 with 1 Axes>"
      ]
     },
     "metadata": {
      "needs_background": "light"
     },
     "output_type": "display_data"
    }
   ],
   "source": [
    "dados['Q011'].hist(bins = 30, figsize= (10,8))"
   ]
  },
  {
   "cell_type": "code",
   "execution_count": 317,
   "metadata": {},
   "outputs": [
    {
     "data": {
      "text/plain": [
       "A    0.853692\n",
       "B    0.137571\n",
       "C    0.007652\n",
       "D    0.000905\n",
       "E    0.000181\n",
       "Name: Q011, dtype: float64"
      ]
     },
     "execution_count": 317,
     "metadata": {},
     "output_type": "execute_result"
    }
   ],
   "source": [
    "dados['Q011'].value_counts(normalize = True)"
   ]
  },
  {
   "cell_type": "code",
   "execution_count": 318,
   "metadata": {},
   "outputs": [
    {
     "data": {
      "text/plain": [
       "<matplotlib.axes._subplots.AxesSubplot at 0x1cf5ce979a0>"
      ]
     },
     "execution_count": 318,
     "metadata": {},
     "output_type": "execute_result"
    },
    {
     "data": {
      "image/png": "[encoded data removed]",
      "text/plain": [
       "<Figure size 720x576 with 1 Axes>"
      ]
     },
     "metadata": {
      "needs_background": "light"
     },
     "output_type": "display_data"
    }
   ],
   "source": [
    "dados['Q004'].hist(bins = 30, figsize= (10,8))"
   ]
  },
  {
   "cell_type": "markdown",
   "metadata": {},
   "source": [
    "# Divisão e Criação de Dados - Novas Colunas!"
   ]
  },
  {
   "cell_type": "code",
   "execution_count": 319,
   "metadata": {},
   "outputs": [],
   "source": [
    "provas = [\"NU_NOTA_CN\",\"NU_NOTA_CH\",\"NU_NOTA_MT\",\"NU_NOTA_LC\",\"NU_NOTA_REDACAO\"]\n",
    "dados['NU_NOTA_TOTAL'] = dados[provas].sum(axis=1) #Criando uma nova coluna com as somas totais das notas POR ALUNO, ou seja, somar cada linha\n",
    "dados.head()\n",
    "provas.append('NU_NOTA_TOTAL')"
   ]
  },
  {
   "cell_type": "code",
   "execution_count": 320,
   "metadata": {},
   "outputs": [
    {
     "data": {
      "text/html": [
       "<div>\n",
       "<style scoped>\n",
       "    .dataframe tbody tr th:only-of-type {\n",
       "        vertical-align: middle;\n",
       "    }\n",
       "\n",
       "    .dataframe tbody tr th {\n",
       "        vertical-align: top;\n",
       "    }\n",
       "\n",
       "    .dataframe thead th {\n",
       "        text-align: right;\n",
       "    }\n",
       "</style>\n",
       "<table border=\"1\" class=\"dataframe\">\n",
       "  <thead>\n",
       "    <tr style=\"text-align: right;\">\n",
       "      <th></th>\n",
       "      <th>NU_INSCRICAO</th>\n",
       "      <th>NU_ANO</th>\n",
       "      <th>CO_MUNICIPIO_RESIDENCIA</th>\n",
       "      <th>NO_MUNICIPIO_RESIDENCIA</th>\n",
       "      <th>CO_UF_RESIDENCIA</th>\n",
       "      <th>SG_UF_RESIDENCIA</th>\n",
       "      <th>NU_IDADE</th>\n",
       "      <th>TP_SEXO</th>\n",
       "      <th>TP_ESTADO_CIVIL</th>\n",
       "      <th>TP_COR_RACA</th>\n",
       "      <th>...</th>\n",
       "      <th>Q017</th>\n",
       "      <th>Q018</th>\n",
       "      <th>Q019</th>\n",
       "      <th>Q020</th>\n",
       "      <th>Q021</th>\n",
       "      <th>Q022</th>\n",
       "      <th>Q023</th>\n",
       "      <th>Q024</th>\n",
       "      <th>Q025</th>\n",
       "      <th>NU_NOTA_TOTAL</th>\n",
       "    </tr>\n",
       "  </thead>\n",
       "  <tbody>\n",
       "    <tr>\n",
       "      <th>0</th>\n",
       "      <td>190001007013</td>\n",
       "      <td>2019</td>\n",
       "      <td>2304400</td>\n",
       "      <td>Fortaleza</td>\n",
       "      <td>23</td>\n",
       "      <td>CE</td>\n",
       "      <td>22</td>\n",
       "      <td>F</td>\n",
       "      <td>1</td>\n",
       "      <td>0</td>\n",
       "      <td>...</td>\n",
       "      <td>A</td>\n",
       "      <td>A</td>\n",
       "      <td>B</td>\n",
       "      <td>A</td>\n",
       "      <td>A</td>\n",
       "      <td>D</td>\n",
       "      <td>A</td>\n",
       "      <td>A</td>\n",
       "      <td>B</td>\n",
       "      <td>0.0</td>\n",
       "    </tr>\n",
       "    <tr>\n",
       "      <th>1</th>\n",
       "      <td>190001015395</td>\n",
       "      <td>2019</td>\n",
       "      <td>2304400</td>\n",
       "      <td>Fortaleza</td>\n",
       "      <td>23</td>\n",
       "      <td>CE</td>\n",
       "      <td>20</td>\n",
       "      <td>M</td>\n",
       "      <td>1</td>\n",
       "      <td>3</td>\n",
       "      <td>...</td>\n",
       "      <td>A</td>\n",
       "      <td>A</td>\n",
       "      <td>B</td>\n",
       "      <td>B</td>\n",
       "      <td>A</td>\n",
       "      <td>C</td>\n",
       "      <td>A</td>\n",
       "      <td>A</td>\n",
       "      <td>A</td>\n",
       "      <td>2346.6</td>\n",
       "    </tr>\n",
       "    <tr>\n",
       "      <th>2</th>\n",
       "      <td>190001037184</td>\n",
       "      <td>2019</td>\n",
       "      <td>2304400</td>\n",
       "      <td>Fortaleza</td>\n",
       "      <td>23</td>\n",
       "      <td>CE</td>\n",
       "      <td>27</td>\n",
       "      <td>M</td>\n",
       "      <td>1</td>\n",
       "      <td>1</td>\n",
       "      <td>...</td>\n",
       "      <td>A</td>\n",
       "      <td>A</td>\n",
       "      <td>B</td>\n",
       "      <td>B</td>\n",
       "      <td>A</td>\n",
       "      <td>E</td>\n",
       "      <td>A</td>\n",
       "      <td>B</td>\n",
       "      <td>A</td>\n",
       "      <td>3142.8</td>\n",
       "    </tr>\n",
       "    <tr>\n",
       "      <th>3</th>\n",
       "      <td>190001044225</td>\n",
       "      <td>2019</td>\n",
       "      <td>2304400</td>\n",
       "      <td>Fortaleza</td>\n",
       "      <td>23</td>\n",
       "      <td>CE</td>\n",
       "      <td>57</td>\n",
       "      <td>F</td>\n",
       "      <td>3</td>\n",
       "      <td>3</td>\n",
       "      <td>...</td>\n",
       "      <td>B</td>\n",
       "      <td>A</td>\n",
       "      <td>B</td>\n",
       "      <td>A</td>\n",
       "      <td>A</td>\n",
       "      <td>B</td>\n",
       "      <td>A</td>\n",
       "      <td>A</td>\n",
       "      <td>A</td>\n",
       "      <td>0.0</td>\n",
       "    </tr>\n",
       "    <tr>\n",
       "      <th>4</th>\n",
       "      <td>190001059914</td>\n",
       "      <td>2019</td>\n",
       "      <td>2304400</td>\n",
       "      <td>Fortaleza</td>\n",
       "      <td>23</td>\n",
       "      <td>CE</td>\n",
       "      <td>18</td>\n",
       "      <td>M</td>\n",
       "      <td>1</td>\n",
       "      <td>1</td>\n",
       "      <td>...</td>\n",
       "      <td>A</td>\n",
       "      <td>A</td>\n",
       "      <td>B</td>\n",
       "      <td>A</td>\n",
       "      <td>A</td>\n",
       "      <td>B</td>\n",
       "      <td>A</td>\n",
       "      <td>A</td>\n",
       "      <td>A</td>\n",
       "      <td>2883.9</td>\n",
       "    </tr>\n",
       "  </tbody>\n",
       "</table>\n",
       "<p>5 rows × 137 columns</p>\n",
       "</div>"
      ],
      "text/plain": [
       "   NU_INSCRICAO  NU_ANO  CO_MUNICIPIO_RESIDENCIA NO_MUNICIPIO_RESIDENCIA  \\\n",
       "0  190001007013    2019                  2304400               Fortaleza   \n",
       "1  190001015395    2019                  2304400               Fortaleza   \n",
       "2  190001037184    2019                  2304400               Fortaleza   \n",
       "3  190001044225    2019                  2304400               Fortaleza   \n",
       "4  190001059914    2019                  2304400               Fortaleza   \n",
       "\n",
       "   CO_UF_RESIDENCIA SG_UF_RESIDENCIA  NU_IDADE TP_SEXO  TP_ESTADO_CIVIL  \\\n",
       "0                23               CE        22       F                1   \n",
       "1                23               CE        20       M                1   \n",
       "2                23               CE        27       M                1   \n",
       "3                23               CE        57       F                3   \n",
       "4                23               CE        18       M                1   \n",
       "\n",
       "   TP_COR_RACA  ...  Q017  Q018 Q019  Q020 Q021  Q022  Q023  Q024  Q025  \\\n",
       "0            0  ...     A     A    B     A    A     D     A     A     B   \n",
       "1            3  ...     A     A    B     B    A     C     A     A     A   \n",
       "2            1  ...     A     A    B     B    A     E     A     B     A   \n",
       "3            3  ...     B     A    B     A    A     B     A     A     A   \n",
       "4            1  ...     A     A    B     A    A     B     A     A     A   \n",
       "\n",
       "   NU_NOTA_TOTAL  \n",
       "0            0.0  \n",
       "1         2346.6  \n",
       "2         3142.8  \n",
       "3            0.0  \n",
       "4         2883.9  \n",
       "\n",
       "[5 rows x 137 columns]"
      ]
     },
     "execution_count": 320,
     "metadata": {},
     "output_type": "execute_result"
    }
   ],
   "source": [
    "dados.head()"
   ]
  },
  {
   "cell_type": "code",
   "execution_count": 321,
   "metadata": {},
   "outputs": [
    {
     "data": {
      "text/html": [
       "<div>\n",
       "<style scoped>\n",
       "    .dataframe tbody tr th:only-of-type {\n",
       "        vertical-align: middle;\n",
       "    }\n",
       "\n",
       "    .dataframe tbody tr th {\n",
       "        vertical-align: top;\n",
       "    }\n",
       "\n",
       "    .dataframe thead th {\n",
       "        text-align: right;\n",
       "    }\n",
       "</style>\n",
       "<table border=\"1\" class=\"dataframe\">\n",
       "  <thead>\n",
       "    <tr style=\"text-align: right;\">\n",
       "      <th></th>\n",
       "      <th>NU_INSCRICAO</th>\n",
       "      <th>NU_ANO</th>\n",
       "      <th>CO_MUNICIPIO_RESIDENCIA</th>\n",
       "      <th>NO_MUNICIPIO_RESIDENCIA</th>\n",
       "      <th>CO_UF_RESIDENCIA</th>\n",
       "      <th>SG_UF_RESIDENCIA</th>\n",
       "      <th>NU_IDADE</th>\n",
       "      <th>TP_SEXO</th>\n",
       "      <th>TP_ESTADO_CIVIL</th>\n",
       "      <th>TP_COR_RACA</th>\n",
       "      <th>...</th>\n",
       "      <th>Q018</th>\n",
       "      <th>Q019</th>\n",
       "      <th>Q020</th>\n",
       "      <th>Q021</th>\n",
       "      <th>Q022</th>\n",
       "      <th>Q023</th>\n",
       "      <th>Q024</th>\n",
       "      <th>Q025</th>\n",
       "      <th>NU_NOTA_TOTAL</th>\n",
       "      <th>NU_NOTA_MEDIA</th>\n",
       "    </tr>\n",
       "  </thead>\n",
       "  <tbody>\n",
       "    <tr>\n",
       "      <th>0</th>\n",
       "      <td>190001007013</td>\n",
       "      <td>2019</td>\n",
       "      <td>2304400</td>\n",
       "      <td>Fortaleza</td>\n",
       "      <td>23</td>\n",
       "      <td>CE</td>\n",
       "      <td>22</td>\n",
       "      <td>F</td>\n",
       "      <td>1</td>\n",
       "      <td>0</td>\n",
       "      <td>...</td>\n",
       "      <td>A</td>\n",
       "      <td>B</td>\n",
       "      <td>A</td>\n",
       "      <td>A</td>\n",
       "      <td>D</td>\n",
       "      <td>A</td>\n",
       "      <td>A</td>\n",
       "      <td>B</td>\n",
       "      <td>0.0</td>\n",
       "      <td>0.00</td>\n",
       "    </tr>\n",
       "    <tr>\n",
       "      <th>1</th>\n",
       "      <td>190001015395</td>\n",
       "      <td>2019</td>\n",
       "      <td>2304400</td>\n",
       "      <td>Fortaleza</td>\n",
       "      <td>23</td>\n",
       "      <td>CE</td>\n",
       "      <td>20</td>\n",
       "      <td>M</td>\n",
       "      <td>1</td>\n",
       "      <td>3</td>\n",
       "      <td>...</td>\n",
       "      <td>A</td>\n",
       "      <td>B</td>\n",
       "      <td>B</td>\n",
       "      <td>A</td>\n",
       "      <td>C</td>\n",
       "      <td>A</td>\n",
       "      <td>A</td>\n",
       "      <td>A</td>\n",
       "      <td>2346.6</td>\n",
       "      <td>469.32</td>\n",
       "    </tr>\n",
       "    <tr>\n",
       "      <th>2</th>\n",
       "      <td>190001037184</td>\n",
       "      <td>2019</td>\n",
       "      <td>2304400</td>\n",
       "      <td>Fortaleza</td>\n",
       "      <td>23</td>\n",
       "      <td>CE</td>\n",
       "      <td>27</td>\n",
       "      <td>M</td>\n",
       "      <td>1</td>\n",
       "      <td>1</td>\n",
       "      <td>...</td>\n",
       "      <td>A</td>\n",
       "      <td>B</td>\n",
       "      <td>B</td>\n",
       "      <td>A</td>\n",
       "      <td>E</td>\n",
       "      <td>A</td>\n",
       "      <td>B</td>\n",
       "      <td>A</td>\n",
       "      <td>3142.8</td>\n",
       "      <td>628.56</td>\n",
       "    </tr>\n",
       "    <tr>\n",
       "      <th>3</th>\n",
       "      <td>190001044225</td>\n",
       "      <td>2019</td>\n",
       "      <td>2304400</td>\n",
       "      <td>Fortaleza</td>\n",
       "      <td>23</td>\n",
       "      <td>CE</td>\n",
       "      <td>57</td>\n",
       "      <td>F</td>\n",
       "      <td>3</td>\n",
       "      <td>3</td>\n",
       "      <td>...</td>\n",
       "      <td>A</td>\n",
       "      <td>B</td>\n",
       "      <td>A</td>\n",
       "      <td>A</td>\n",
       "      <td>B</td>\n",
       "      <td>A</td>\n",
       "      <td>A</td>\n",
       "      <td>A</td>\n",
       "      <td>0.0</td>\n",
       "      <td>0.00</td>\n",
       "    </tr>\n",
       "    <tr>\n",
       "      <th>4</th>\n",
       "      <td>190001059914</td>\n",
       "      <td>2019</td>\n",
       "      <td>2304400</td>\n",
       "      <td>Fortaleza</td>\n",
       "      <td>23</td>\n",
       "      <td>CE</td>\n",
       "      <td>18</td>\n",
       "      <td>M</td>\n",
       "      <td>1</td>\n",
       "      <td>1</td>\n",
       "      <td>...</td>\n",
       "      <td>A</td>\n",
       "      <td>B</td>\n",
       "      <td>A</td>\n",
       "      <td>A</td>\n",
       "      <td>B</td>\n",
       "      <td>A</td>\n",
       "      <td>A</td>\n",
       "      <td>A</td>\n",
       "      <td>2883.9</td>\n",
       "      <td>576.78</td>\n",
       "    </tr>\n",
       "  </tbody>\n",
       "</table>\n",
       "<p>5 rows × 138 columns</p>\n",
       "</div>"
      ],
      "text/plain": [
       "   NU_INSCRICAO  NU_ANO  CO_MUNICIPIO_RESIDENCIA NO_MUNICIPIO_RESIDENCIA  \\\n",
       "0  190001007013    2019                  2304400               Fortaleza   \n",
       "1  190001015395    2019                  2304400               Fortaleza   \n",
       "2  190001037184    2019                  2304400               Fortaleza   \n",
       "3  190001044225    2019                  2304400               Fortaleza   \n",
       "4  190001059914    2019                  2304400               Fortaleza   \n",
       "\n",
       "   CO_UF_RESIDENCIA SG_UF_RESIDENCIA  NU_IDADE TP_SEXO  TP_ESTADO_CIVIL  \\\n",
       "0                23               CE        22       F                1   \n",
       "1                23               CE        20       M                1   \n",
       "2                23               CE        27       M                1   \n",
       "3                23               CE        57       F                3   \n",
       "4                23               CE        18       M                1   \n",
       "\n",
       "   TP_COR_RACA  ...  Q018  Q019 Q020  Q021 Q022  Q023  Q024  Q025  \\\n",
       "0            0  ...     A     B    A     A    D     A     A     B   \n",
       "1            3  ...     A     B    B     A    C     A     A     A   \n",
       "2            1  ...     A     B    B     A    E     A     B     A   \n",
       "3            3  ...     A     B    A     A    B     A     A     A   \n",
       "4            1  ...     A     B    A     A    B     A     A     A   \n",
       "\n",
       "   NU_NOTA_TOTAL  NU_NOTA_MEDIA  \n",
       "0            0.0           0.00  \n",
       "1         2346.6         469.32  \n",
       "2         3142.8         628.56  \n",
       "3            0.0           0.00  \n",
       "4         2883.9         576.78  \n",
       "\n",
       "[5 rows x 138 columns]"
      ]
     },
     "execution_count": 321,
     "metadata": {},
     "output_type": "execute_result"
    }
   ],
   "source": [
    "dados['NU_NOTA_MEDIA'] = dados['NU_NOTA_TOTAL']/5\n",
    "dados.head()"
   ]
  },
  {
   "cell_type": "code",
   "execution_count": 447,
   "metadata": {},
   "outputs": [],
   "source": [
    "def organizar_Grupos_Notas():\n",
    "    vetorGrupoNotas = []\n",
    "    for notasMedias in dados['NU_NOTA_MEDIA']:\n",
    "        if ((notasMedias >= 0.0) & (notasMedias <= 400.0)):\n",
    "            vetorGrupoNotas.append('N1')\n",
    "        elif ((notasMedias > 400) & (notasMedias <= 600)):\n",
    "            vetorGrupoNotas.append('N2')\n",
    "        elif ((notasMedias > 600) & (notasMedias <= 800)):\n",
    "            vetorGrupoNotas.append('N3')\n",
    "        else:\n",
    "            vetorGrupoNotas.append('N4')\n",
    "    dados['NU_MEDIA_GRUPO'] = vetorGrupoNotas"
   ]
  },
  {
   "cell_type": "code",
   "execution_count": 448,
   "metadata": {},
   "outputs": [],
   "source": [
    "def organizar_Grupos_Renda():\n",
    "    vetorGrupoRenda = []\n",
    "    for valorRenda in dados['Q006']:\n",
    "        if (valorRenda == 'A') | (valorRenda == 'B'):\n",
    "            vetorGrupoRenda.append('R1')\n",
    "        elif(valorRenda == 'C'):\n",
    "            vetorGrupoRenda.append('R2')\n",
    "        elif(valorRenda == 'D') | (valorRenda == 'E') |(valorRenda == 'F') |(valorRenda == 'G') |(valorRenda == 'H') |(valorRenda == 'I')|(valorRenda == 'J'):\n",
    "            vetorGrupoRenda.append('R3')\n",
    "        else:\n",
    "            vetorGrupoRenda.append('R4')\n",
    "    dados['RENDA_GRUPO'] = vetorGrupoRenda"
   ]
  },
  {
   "cell_type": "code",
   "execution_count": 449,
   "metadata": {},
   "outputs": [],
   "source": [
    "def organizar_Grupos_Escolaridade():\n",
    "    vetorGrupoEscolaridade = []\n",
    "    for identificadorEscolaridade in dados['Q002']:\n",
    "        if (identificadorEscolaridade == 'A') | (identificadorEscolaridade == 'B'):\n",
    "            vetorGrupoEscolaridade.append('E1')\n",
    "        elif (identificadorEscolaridade == 'C') | (identificadorEscolaridade == 'D'):\n",
    "            vetorGrupoEscolaridade.append('E2')\n",
    "        elif (identificadorEscolaridade == 'E'):\n",
    "            vetorGrupoEscolaridade.append('E3')\n",
    "        else:\n",
    "            vetorGrupoEscolaridade.append('E4')\n",
    "    dados['ESCOLARIDADE_GRUPO'] = vetorGrupoEscolaridade"
   ]
  },
  {
   "cell_type": "code",
   "execution_count": 450,
   "metadata": {},
   "outputs": [],
   "source": [
    "def organizar_Grupos_Locomocao():\n",
    "    vetorGrupoLomocao = []\n",
    "    for identificadorLocomocao in dados['Q010']:\n",
    "        if (identificadorLocomocao == 'A'):\n",
    "            vetorGrupoLomocao.append('L1')\n",
    "        elif (identificadorLocomocao == 'B'):\n",
    "            vetorGrupoLomocao.append('L2')\n",
    "        else:\n",
    "            vetorGrupoLomocao.append('L3')\n",
    "    dados['LOCOMOCAO_GRUPO'] = vetorGrupoLomocao"
   ]
  },
  {
   "cell_type": "code",
   "execution_count": 451,
   "metadata": {},
   "outputs": [],
   "source": [
    "def organizar_Grupos_Intenet(): \n",
    "    vetorGrupoInternet = []\n",
    "    for identificadorInternet in dados['Q025']:\n",
    "        if (identificadorInternet == 'A'):\n",
    "            vetorGrupoInternet.append('I0')\n",
    "        else:\n",
    "            vetorGrupoInternet.append('I1')\n",
    "    dados['INTERNET_GRUPO'] = vetorGrupoInternet"
   ]
  },
  {
   "cell_type": "code",
   "execution_count": 452,
   "metadata": {},
   "outputs": [
    {
     "data": {
      "text/html": [
       "<div>\n",
       "<style scoped>\n",
       "    .dataframe tbody tr th:only-of-type {\n",
       "        vertical-align: middle;\n",
       "    }\n",
       "\n",
       "    .dataframe tbody tr th {\n",
       "        vertical-align: top;\n",
       "    }\n",
       "\n",
       "    .dataframe thead th {\n",
       "        text-align: right;\n",
       "    }\n",
       "</style>\n",
       "<table border=\"1\" class=\"dataframe\">\n",
       "  <thead>\n",
       "    <tr style=\"text-align: right;\">\n",
       "      <th></th>\n",
       "      <th>NU_INSCRICAO</th>\n",
       "      <th>NU_ANO</th>\n",
       "      <th>CO_MUNICIPIO_RESIDENCIA</th>\n",
       "      <th>NO_MUNICIPIO_RESIDENCIA</th>\n",
       "      <th>CO_UF_RESIDENCIA</th>\n",
       "      <th>SG_UF_RESIDENCIA</th>\n",
       "      <th>NU_IDADE</th>\n",
       "      <th>TP_SEXO</th>\n",
       "      <th>TP_ESTADO_CIVIL</th>\n",
       "      <th>TP_COR_RACA</th>\n",
       "      <th>...</th>\n",
       "      <th>Q024</th>\n",
       "      <th>Q025</th>\n",
       "      <th>NU_NOTA_TOTAL</th>\n",
       "      <th>NU_NOTA_MEDIA</th>\n",
       "      <th>NU_MEDIA_GRUPO</th>\n",
       "      <th>RENDA_GRUPO</th>\n",
       "      <th>ESCOLARIDADE_GRUPO</th>\n",
       "      <th>LOCOMOCAO_GRUPO</th>\n",
       "      <th>INTERNET_GRUPO</th>\n",
       "      <th>GRUPO_TOTAL</th>\n",
       "    </tr>\n",
       "  </thead>\n",
       "  <tbody>\n",
       "    <tr>\n",
       "      <th>0</th>\n",
       "      <td>190001007013</td>\n",
       "      <td>2019</td>\n",
       "      <td>2304400</td>\n",
       "      <td>Fortaleza</td>\n",
       "      <td>23</td>\n",
       "      <td>CE</td>\n",
       "      <td>22</td>\n",
       "      <td>F</td>\n",
       "      <td>1</td>\n",
       "      <td>0</td>\n",
       "      <td>...</td>\n",
       "      <td>A</td>\n",
       "      <td>B</td>\n",
       "      <td>0.0</td>\n",
       "      <td>0.00</td>\n",
       "      <td>N1</td>\n",
       "      <td>R3</td>\n",
       "      <td>E3</td>\n",
       "      <td>L1</td>\n",
       "      <td>I1</td>\n",
       "      <td>13311</td>\n",
       "    </tr>\n",
       "    <tr>\n",
       "      <th>1</th>\n",
       "      <td>190001015395</td>\n",
       "      <td>2019</td>\n",
       "      <td>2304400</td>\n",
       "      <td>Fortaleza</td>\n",
       "      <td>23</td>\n",
       "      <td>CE</td>\n",
       "      <td>20</td>\n",
       "      <td>M</td>\n",
       "      <td>1</td>\n",
       "      <td>3</td>\n",
       "      <td>...</td>\n",
       "      <td>A</td>\n",
       "      <td>A</td>\n",
       "      <td>2346.6</td>\n",
       "      <td>469.32</td>\n",
       "      <td>N2</td>\n",
       "      <td>R2</td>\n",
       "      <td>E2</td>\n",
       "      <td>L1</td>\n",
       "      <td>I0</td>\n",
       "      <td>22210</td>\n",
       "    </tr>\n",
       "    <tr>\n",
       "      <th>2</th>\n",
       "      <td>190001037184</td>\n",
       "      <td>2019</td>\n",
       "      <td>2304400</td>\n",
       "      <td>Fortaleza</td>\n",
       "      <td>23</td>\n",
       "      <td>CE</td>\n",
       "      <td>27</td>\n",
       "      <td>M</td>\n",
       "      <td>1</td>\n",
       "      <td>1</td>\n",
       "      <td>...</td>\n",
       "      <td>B</td>\n",
       "      <td>A</td>\n",
       "      <td>3142.8</td>\n",
       "      <td>628.56</td>\n",
       "      <td>N3</td>\n",
       "      <td>R3</td>\n",
       "      <td>E3</td>\n",
       "      <td>L2</td>\n",
       "      <td>I0</td>\n",
       "      <td>33320</td>\n",
       "    </tr>\n",
       "    <tr>\n",
       "      <th>3</th>\n",
       "      <td>190001044225</td>\n",
       "      <td>2019</td>\n",
       "      <td>2304400</td>\n",
       "      <td>Fortaleza</td>\n",
       "      <td>23</td>\n",
       "      <td>CE</td>\n",
       "      <td>57</td>\n",
       "      <td>F</td>\n",
       "      <td>3</td>\n",
       "      <td>3</td>\n",
       "      <td>...</td>\n",
       "      <td>A</td>\n",
       "      <td>A</td>\n",
       "      <td>0.0</td>\n",
       "      <td>0.00</td>\n",
       "      <td>N1</td>\n",
       "      <td>R1</td>\n",
       "      <td>E3</td>\n",
       "      <td>L1</td>\n",
       "      <td>I0</td>\n",
       "      <td>11310</td>\n",
       "    </tr>\n",
       "    <tr>\n",
       "      <th>4</th>\n",
       "      <td>190001059914</td>\n",
       "      <td>2019</td>\n",
       "      <td>2304400</td>\n",
       "      <td>Fortaleza</td>\n",
       "      <td>23</td>\n",
       "      <td>CE</td>\n",
       "      <td>18</td>\n",
       "      <td>M</td>\n",
       "      <td>1</td>\n",
       "      <td>1</td>\n",
       "      <td>...</td>\n",
       "      <td>A</td>\n",
       "      <td>A</td>\n",
       "      <td>2883.9</td>\n",
       "      <td>576.78</td>\n",
       "      <td>N2</td>\n",
       "      <td>R2</td>\n",
       "      <td>E3</td>\n",
       "      <td>L1</td>\n",
       "      <td>I0</td>\n",
       "      <td>22310</td>\n",
       "    </tr>\n",
       "  </tbody>\n",
       "</table>\n",
       "<p>5 rows × 144 columns</p>\n",
       "</div>"
      ],
      "text/plain": [
       "   NU_INSCRICAO  NU_ANO  CO_MUNICIPIO_RESIDENCIA NO_MUNICIPIO_RESIDENCIA  \\\n",
       "0  190001007013    2019                  2304400               Fortaleza   \n",
       "1  190001015395    2019                  2304400               Fortaleza   \n",
       "2  190001037184    2019                  2304400               Fortaleza   \n",
       "3  190001044225    2019                  2304400               Fortaleza   \n",
       "4  190001059914    2019                  2304400               Fortaleza   \n",
       "\n",
       "   CO_UF_RESIDENCIA SG_UF_RESIDENCIA  NU_IDADE TP_SEXO  TP_ESTADO_CIVIL  \\\n",
       "0                23               CE        22       F                1   \n",
       "1                23               CE        20       M                1   \n",
       "2                23               CE        27       M                1   \n",
       "3                23               CE        57       F                3   \n",
       "4                23               CE        18       M                1   \n",
       "\n",
       "   TP_COR_RACA  ...  Q024  Q025 NU_NOTA_TOTAL  NU_NOTA_MEDIA NU_MEDIA_GRUPO  \\\n",
       "0            0  ...     A     B           0.0           0.00             N1   \n",
       "1            3  ...     A     A        2346.6         469.32             N2   \n",
       "2            1  ...     B     A        3142.8         628.56             N3   \n",
       "3            3  ...     A     A           0.0           0.00             N1   \n",
       "4            1  ...     A     A        2883.9         576.78             N2   \n",
       "\n",
       "   RENDA_GRUPO  ESCOLARIDADE_GRUPO  LOCOMOCAO_GRUPO  INTERNET_GRUPO  \\\n",
       "0           R3                  E3               L1              I1   \n",
       "1           R2                  E2               L1              I0   \n",
       "2           R3                  E3               L2              I0   \n",
       "3           R1                  E3               L1              I0   \n",
       "4           R2                  E3               L1              I0   \n",
       "\n",
       "   GRUPO_TOTAL  \n",
       "0        13311  \n",
       "1        22210  \n",
       "2        33320  \n",
       "3        11310  \n",
       "4        22310  \n",
       "\n",
       "[5 rows x 144 columns]"
      ]
     },
     "execution_count": 452,
     "metadata": {},
     "output_type": "execute_result"
    }
   ],
   "source": [
    "organizar_Grupos_Notas()\n",
    "organizar_Grupos_Renda()\n",
    "organizar_Grupos_Escolaridade()\n",
    "organizar_Grupos_Locomocao()\n",
    "organizar_Grupos_Intenet()\n",
    "dados.head()"
   ]
  },
  {
   "cell_type": "code",
   "execution_count": 453,
   "metadata": {},
   "outputs": [
    {
     "data": {
      "text/plain": [
       "I1    73271\n",
       "I0    20688\n",
       "Name: INTERNET_GRUPO, dtype: int64"
      ]
     },
     "execution_count": 453,
     "metadata": {},
     "output_type": "execute_result"
    }
   ],
   "source": [
    "dados['INTERNET_GRUPO'].value_counts()"
   ]
  },
  {
   "cell_type": "code",
   "execution_count": 454,
   "metadata": {},
   "outputs": [
    {
     "data": {
      "text/plain": [
       "1    A\n",
       "Name: Q025, dtype: object"
      ]
     },
     "execution_count": 454,
     "metadata": {},
     "output_type": "execute_result"
    }
   ],
   "source": [
    "dados.query('NU_INSCRICAO == 190001015395')['Q025']"
   ]
  },
  {
   "cell_type": "code",
   "execution_count": 455,
   "metadata": {},
   "outputs": [
    {
     "data": {
      "text/plain": [
       "N2    48570\n",
       "N1    27055\n",
       "N3    18309\n",
       "N4       25\n",
       "Name: NU_MEDIA_GRUPO, dtype: int64"
      ]
     },
     "execution_count": 455,
     "metadata": {},
     "output_type": "execute_result"
    }
   ],
   "source": [
    "dados['NU_MEDIA_GRUPO'].value_counts()"
   ]
  },
  {
   "cell_type": "code",
   "execution_count": 456,
   "metadata": {},
   "outputs": [
    {
     "name": "stdout",
     "output_type": "stream",
     "text": [
      "48570\n",
      "27055\n",
      "18309\n",
      "25\n"
     ]
    }
   ],
   "source": [
    "for x in dados['NU_MEDIA_GRUPO'].value_counts():\n",
    "    print(x)"
   ]
  },
  {
   "cell_type": "code",
   "execution_count": 457,
   "metadata": {},
   "outputs": [
    {
     "data": {
      "text/plain": [
       "R1    0.311125\n",
       "R2    0.307709\n",
       "R3    0.298726\n",
       "R4    0.082440\n",
       "Name: RENDA_GRUPO, dtype: float64"
      ]
     },
     "execution_count": 457,
     "metadata": {},
     "output_type": "execute_result"
    }
   ],
   "source": [
    "dados['RENDA_GRUPO'].value_counts(normalize = True)"
   ]
  },
  {
   "cell_type": "code",
   "execution_count": 458,
   "metadata": {},
   "outputs": [],
   "source": [
    "dados['GRUPO_TOTAL'] = dados['NU_MEDIA_GRUPO'] + dados['RENDA_GRUPO'] + dados['ESCOLARIDADE_GRUPO'] + dados['LOCOMOCAO_GRUPO'] + dados['INTERNET_GRUPO']"
   ]
  },
  {
   "cell_type": "code",
   "execution_count": 459,
   "metadata": {},
   "outputs": [
    {
     "data": {
      "text/html": [
       "<div>\n",
       "<style scoped>\n",
       "    .dataframe tbody tr th:only-of-type {\n",
       "        vertical-align: middle;\n",
       "    }\n",
       "\n",
       "    .dataframe tbody tr th {\n",
       "        vertical-align: top;\n",
       "    }\n",
       "\n",
       "    .dataframe thead th {\n",
       "        text-align: right;\n",
       "    }\n",
       "</style>\n",
       "<table border=\"1\" class=\"dataframe\">\n",
       "  <thead>\n",
       "    <tr style=\"text-align: right;\">\n",
       "      <th></th>\n",
       "      <th>NU_INSCRICAO</th>\n",
       "      <th>NU_ANO</th>\n",
       "      <th>CO_MUNICIPIO_RESIDENCIA</th>\n",
       "      <th>NO_MUNICIPIO_RESIDENCIA</th>\n",
       "      <th>CO_UF_RESIDENCIA</th>\n",
       "      <th>SG_UF_RESIDENCIA</th>\n",
       "      <th>NU_IDADE</th>\n",
       "      <th>TP_SEXO</th>\n",
       "      <th>TP_ESTADO_CIVIL</th>\n",
       "      <th>TP_COR_RACA</th>\n",
       "      <th>...</th>\n",
       "      <th>Q024</th>\n",
       "      <th>Q025</th>\n",
       "      <th>NU_NOTA_TOTAL</th>\n",
       "      <th>NU_NOTA_MEDIA</th>\n",
       "      <th>NU_MEDIA_GRUPO</th>\n",
       "      <th>RENDA_GRUPO</th>\n",
       "      <th>ESCOLARIDADE_GRUPO</th>\n",
       "      <th>LOCOMOCAO_GRUPO</th>\n",
       "      <th>INTERNET_GRUPO</th>\n",
       "      <th>GRUPO_TOTAL</th>\n",
       "    </tr>\n",
       "  </thead>\n",
       "  <tbody>\n",
       "    <tr>\n",
       "      <th>0</th>\n",
       "      <td>190001007013</td>\n",
       "      <td>2019</td>\n",
       "      <td>2304400</td>\n",
       "      <td>Fortaleza</td>\n",
       "      <td>23</td>\n",
       "      <td>CE</td>\n",
       "      <td>22</td>\n",
       "      <td>F</td>\n",
       "      <td>1</td>\n",
       "      <td>0</td>\n",
       "      <td>...</td>\n",
       "      <td>A</td>\n",
       "      <td>B</td>\n",
       "      <td>0.0</td>\n",
       "      <td>0.00</td>\n",
       "      <td>N1</td>\n",
       "      <td>R3</td>\n",
       "      <td>E3</td>\n",
       "      <td>L1</td>\n",
       "      <td>I1</td>\n",
       "      <td>N1R3E3L1I1</td>\n",
       "    </tr>\n",
       "    <tr>\n",
       "      <th>1</th>\n",
       "      <td>190001015395</td>\n",
       "      <td>2019</td>\n",
       "      <td>2304400</td>\n",
       "      <td>Fortaleza</td>\n",
       "      <td>23</td>\n",
       "      <td>CE</td>\n",
       "      <td>20</td>\n",
       "      <td>M</td>\n",
       "      <td>1</td>\n",
       "      <td>3</td>\n",
       "      <td>...</td>\n",
       "      <td>A</td>\n",
       "      <td>A</td>\n",
       "      <td>2346.6</td>\n",
       "      <td>469.32</td>\n",
       "      <td>N2</td>\n",
       "      <td>R2</td>\n",
       "      <td>E2</td>\n",
       "      <td>L1</td>\n",
       "      <td>I0</td>\n",
       "      <td>N2R2E2L1I0</td>\n",
       "    </tr>\n",
       "    <tr>\n",
       "      <th>2</th>\n",
       "      <td>190001037184</td>\n",
       "      <td>2019</td>\n",
       "      <td>2304400</td>\n",
       "      <td>Fortaleza</td>\n",
       "      <td>23</td>\n",
       "      <td>CE</td>\n",
       "      <td>27</td>\n",
       "      <td>M</td>\n",
       "      <td>1</td>\n",
       "      <td>1</td>\n",
       "      <td>...</td>\n",
       "      <td>B</td>\n",
       "      <td>A</td>\n",
       "      <td>3142.8</td>\n",
       "      <td>628.56</td>\n",
       "      <td>N3</td>\n",
       "      <td>R3</td>\n",
       "      <td>E3</td>\n",
       "      <td>L2</td>\n",
       "      <td>I0</td>\n",
       "      <td>N3R3E3L2I0</td>\n",
       "    </tr>\n",
       "    <tr>\n",
       "      <th>3</th>\n",
       "      <td>190001044225</td>\n",
       "      <td>2019</td>\n",
       "      <td>2304400</td>\n",
       "      <td>Fortaleza</td>\n",
       "      <td>23</td>\n",
       "      <td>CE</td>\n",
       "      <td>57</td>\n",
       "      <td>F</td>\n",
       "      <td>3</td>\n",
       "      <td>3</td>\n",
       "      <td>...</td>\n",
       "      <td>A</td>\n",
       "      <td>A</td>\n",
       "      <td>0.0</td>\n",
       "      <td>0.00</td>\n",
       "      <td>N1</td>\n",
       "      <td>R1</td>\n",
       "      <td>E3</td>\n",
       "      <td>L1</td>\n",
       "      <td>I0</td>\n",
       "      <td>N1R1E3L1I0</td>\n",
       "    </tr>\n",
       "    <tr>\n",
       "      <th>4</th>\n",
       "      <td>190001059914</td>\n",
       "      <td>2019</td>\n",
       "      <td>2304400</td>\n",
       "      <td>Fortaleza</td>\n",
       "      <td>23</td>\n",
       "      <td>CE</td>\n",
       "      <td>18</td>\n",
       "      <td>M</td>\n",
       "      <td>1</td>\n",
       "      <td>1</td>\n",
       "      <td>...</td>\n",
       "      <td>A</td>\n",
       "      <td>A</td>\n",
       "      <td>2883.9</td>\n",
       "      <td>576.78</td>\n",
       "      <td>N2</td>\n",
       "      <td>R2</td>\n",
       "      <td>E3</td>\n",
       "      <td>L1</td>\n",
       "      <td>I0</td>\n",
       "      <td>N2R2E3L1I0</td>\n",
       "    </tr>\n",
       "  </tbody>\n",
       "</table>\n",
       "<p>5 rows × 144 columns</p>\n",
       "</div>"
      ],
      "text/plain": [
       "   NU_INSCRICAO  NU_ANO  CO_MUNICIPIO_RESIDENCIA NO_MUNICIPIO_RESIDENCIA  \\\n",
       "0  190001007013    2019                  2304400               Fortaleza   \n",
       "1  190001015395    2019                  2304400               Fortaleza   \n",
       "2  190001037184    2019                  2304400               Fortaleza   \n",
       "3  190001044225    2019                  2304400               Fortaleza   \n",
       "4  190001059914    2019                  2304400               Fortaleza   \n",
       "\n",
       "   CO_UF_RESIDENCIA SG_UF_RESIDENCIA  NU_IDADE TP_SEXO  TP_ESTADO_CIVIL  \\\n",
       "0                23               CE        22       F                1   \n",
       "1                23               CE        20       M                1   \n",
       "2                23               CE        27       M                1   \n",
       "3                23               CE        57       F                3   \n",
       "4                23               CE        18       M                1   \n",
       "\n",
       "   TP_COR_RACA  ...  Q024  Q025 NU_NOTA_TOTAL  NU_NOTA_MEDIA NU_MEDIA_GRUPO  \\\n",
       "0            0  ...     A     B           0.0           0.00             N1   \n",
       "1            3  ...     A     A        2346.6         469.32             N2   \n",
       "2            1  ...     B     A        3142.8         628.56             N3   \n",
       "3            3  ...     A     A           0.0           0.00             N1   \n",
       "4            1  ...     A     A        2883.9         576.78             N2   \n",
       "\n",
       "   RENDA_GRUPO  ESCOLARIDADE_GRUPO  LOCOMOCAO_GRUPO  INTERNET_GRUPO  \\\n",
       "0           R3                  E3               L1              I1   \n",
       "1           R2                  E2               L1              I0   \n",
       "2           R3                  E3               L2              I0   \n",
       "3           R1                  E3               L1              I0   \n",
       "4           R2                  E3               L1              I0   \n",
       "\n",
       "   GRUPO_TOTAL  \n",
       "0   N1R3E3L1I1  \n",
       "1   N2R2E2L1I0  \n",
       "2   N3R3E3L2I0  \n",
       "3   N1R1E3L1I0  \n",
       "4   N2R2E3L1I0  \n",
       "\n",
       "[5 rows x 144 columns]"
      ]
     },
     "execution_count": 459,
     "metadata": {},
     "output_type": "execute_result"
    }
   ],
   "source": [
    "dados.head()"
   ]
  },
  {
   "cell_type": "code",
   "execution_count": null,
   "metadata": {},
   "outputs": [],
   "source": [
    "def apriori():\n",
    "    suporte = 0.20\n",
    "    #confiança = 0.50\n",
    "    \n",
    "    #nível 1\n",
    "    vetor_k = {}\n",
    "    chaveEspecifica = ''\n",
    "    for transicao in dados['GRUPO_TOTAL']:\n",
    "        for key in vetor_k.keys():\n",
    "            if key == transicao[:2]:\n",
    "                vetor.k[key][0] += 1\n",
    "            else:\n",
    "                vetor.k[transicao[:2]] = 1\n",
    "    print(vetor_k)        "
   ]
  },
  {
   "cell_type": "code",
   "execution_count": null,
   "metadata": {},
   "outputs": [],
   "source": [
    "apriori()"
   ]
  },
  {
   "cell_type": "code",
   "execution_count": null,
   "metadata": {},
   "outputs": [],
   "source": [
    "%debug"
   ]
  },
  {
   "cell_type": "code",
   "execution_count": null,
   "metadata": {},
   "outputs": [],
   "source": []
  },
  {
   "cell_type": "code",
   "execution_count": null,
   "metadata": {},
   "outputs": [],
   "source": []
  }
 ],
 "metadata": {
  "kernelspec": {
   "display_name": "Python 3",
   "language": "python",
   "name": "python3"
  },
  "language_info": {
   "codemirror_mode": {
    "name": "ipython",
    "version": 3
   },
   "file_extension": ".py",
   "mimetype": "text/x-python",
   "name": "python",
   "nbconvert_exporter": "python",
   "pygments_lexer": "ipython3",
   "version": "3.8.3"
  }
 },
 "nbformat": 4,
 "nbformat_minor": 4
}
